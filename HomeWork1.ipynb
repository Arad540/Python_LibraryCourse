{
 "cells": [
  {
   "cell_type": "code",
   "execution_count": 26,
   "metadata": {},
   "outputs": [
    {
     "name": "stdout",
     "output_type": "stream",
     "text": [
      "Fruit apple in quality 25 psc\n",
      "Fruit orange in quality 15 psc\n",
      "Fruit lemon in quality 5 psc\n",
      "count of fruits number: 45\n"
     ]
    }
   ],
   "source": [
    "def fruits(**kwargs):\n",
    "    {print(f\"Fruit {name} in quality {values} psc\") for name, values in kwargs.items()}\n",
    "    return print(f'count of fruits number: {sum(kwargs.values())}')\n",
    "fruits(\n",
    "    apple = 25,\n",
    "    orange = 15,\n",
    "    lemon = 5\n",
    ")"
   ]
  },
  {
   "cell_type": "code",
   "execution_count": 9,
   "metadata": {},
   "outputs": [
    {
     "name": "stdout",
     "output_type": "stream",
     "text": [
      "remove of negative number : [100, 120, 345, 0, 200]\n",
      "sum_of_values: 765\n"
     ]
    }
   ],
   "source": [
    "list_1 = [100, 120, -90, 345 ,-1, 0 ,200]\n",
    "\n",
    "for s in list_1:\n",
    "    if s<0:\n",
    "        list_1.remove(s)\n",
    "print(f\"remove of negative numbers : {list_1}\")\n",
    "       \n",
    "sum_of_values = sum(list_1)\n",
    "print(f\"sum_of_values: {sum_of_values}\")"
   ]
  },
  {
   "cell_type": "code",
   "execution_count": 49,
   "metadata": {},
   "outputs": [
    {
     "name": "stdout",
     "output_type": "stream",
     "text": [
      "['09', '12', '09', '12', '10', '09', '12', '11', '12', '11', '10', '12', '11', '11', '09', '10', '12', '09', '12', '11', '11', '12', '12', '10', '10', '09', '11', '12', '10', '12']\n"
     ]
    },
    {
     "data": {
      "text/plain": [
       "[('Month 11', 'Income 4944'),\n",
       " ('Month 11', 'Income 3701'),\n",
       " ('Month 11', 'Income 7037'),\n",
       " ('Month 11', 'Income 4274'),\n",
       " ('Month 11', 'Income 2004'),\n",
       " ('Month 11', 'Income 2822'),\n",
       " ('Month 11', 'Income 316')]"
      ]
     },
     "execution_count": 49,
     "metadata": {},
     "output_type": "execute_result"
    }
   ],
   "source": [
    "list_dates = ['2021-09-14', '2021-12-15', '2021-09-08', '2021-12-05', '2021-10-09',\n",
    "              '2021-09-30', '2021-12-22', '2021-11-29', '2021-12-24', '2021-11-26',\n",
    "              '2021-10-27', '2021-12-18', '2021-11-09', '2021-11-23', '2021-09-27',\n",
    "              '2021-10-02', '2021-12-27', '2021-09-20', '2021-12-13', '2021-11-01',\n",
    "              '2021-11-09', '2021-12-06', '2021-12-08', '2021-10-09', '2021-10-31',\n",
    "              '2021-09-30', '2021-11-09', '2021-12-13', '2021-10-26', '2021-12-09']\n",
    "\n",
    "amount_by_date = [1270, 8413, 9028, 3703, 5739, 4095, 295, 4944, 5723, 3701, 4471,\n",
    "                  651, 7037, 4274, 6275, 4988, 6930, 2971, 6592, 2004, 2822, 519,\n",
    "                  3406, 2732, 5015, 2008, 316, 6333, 5700, 2887]\n",
    "\n",
    "list_Month = [i.split('-')[1] for i in list_dates]\n",
    "print(list_Month)\n",
    "\n",
    "\n",
    "\n",
    "\n",
    "\n",
    "\n",
    "Nov_income = [(f'Month {list_Month[i]}', f'Income {amount_by_date[j]}') \n",
    "                          for i in range(len(list_Month))\n",
    "                          for j in range(len(amount_by_date))\n",
    "                          if i == j and list_Month[i] == '11']\n",
    "\n",
    "Nov_income\n"
   ]
  }
 ],
 "metadata": {
  "kernelspec": {
   "display_name": "Python 3",
   "language": "python",
   "name": "python3"
  },
  "language_info": {
   "codemirror_mode": {
    "name": "ipython",
    "version": 3
   },
   "file_extension": ".py",
   "mimetype": "text/x-python",
   "name": "python",
   "nbconvert_exporter": "python",
   "pygments_lexer": "ipython3",
   "version": "3.11.3"
  },
  "orig_nbformat": 4
 },
 "nbformat": 4,
 "nbformat_minor": 2
}
