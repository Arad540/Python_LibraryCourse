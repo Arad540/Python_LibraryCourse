{
 "cells": [
  {
   "cell_type": "code",
   "execution_count": 26,
   "metadata": {},
   "outputs": [
    {
     "name": "stdout",
     "output_type": "stream",
     "text": [
      "Fruit apple in quality 25 psc\n",
      "Fruit orange in quality 15 psc\n",
      "Fruit lemon in quality 5 psc\n",
      "count of fruits number: 45\n"
     ]
    }
   ],
   "source": [
    "def fruits(**kwargs):\n",
    "    {print(f\"Fruit {name} in quality {values} psc\") for name, values in kwargs.items()}\n",
    "    return print(f'count of fruits number: {sum(kwargs.values())}')\n",
    "fruits(\n",
    "    apple = 25,\n",
    "    orange = 15,\n",
    "    lemon = 5\n",
    ")"
   ]
  },
  {
   "cell_type": "code",
   "execution_count": 9,
   "metadata": {},
   "outputs": [
    {
     "name": "stdout",
     "output_type": "stream",
     "text": [
      "remove of negative number : [100, 120, 345, 0, 200]\n",
      "sum_of_values: 765\n"
     ]
    }
   ],
   "source": [
    "list_1 = [100, 120, -90, 345 ,-1, 0 ,200]\n",
    "\n",
    "for s in list_1:\n",
    "    if s<0:\n",
    "        list_1.remove(s)\n",
    "print(f\"remove of negative numbers : {list_1}\")\n",
    "       \n",
    "sum_of_values = sum(list_1)\n",
    "print(f\"sum_of_values: {sum_of_values}\")"
   ]
  }
 ],
 "metadata": {
  "kernelspec": {
   "display_name": "Python 3",
   "language": "python",
   "name": "python3"
  },
  "language_info": {
   "codemirror_mode": {
    "name": "ipython",
    "version": 3
   },
   "file_extension": ".py",
   "mimetype": "text/x-python",
   "name": "python",
   "nbconvert_exporter": "python",
   "pygments_lexer": "ipython3",
   "version": "3.11.3"
  },
  "orig_nbformat": 4
 },
 "nbformat": 4,
 "nbformat_minor": 2
}
